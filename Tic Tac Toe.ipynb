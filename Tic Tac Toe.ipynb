{
 "cells": [
  {
   "cell_type": "code",
   "execution_count": null,
   "metadata": {},
   "outputs": [],
   "source": [
    "    grid = (' | | \\n-----\\n | | \\n-----\\n | | ')\n",
    "    grid2 = [ i for i in grid]\n",
    "    options = [i for i in range(len(grid)) if grid[i] == ' ']\n",
    "    options_new = options"
   ]
  },
  {
   "cell_type": "code",
   "execution_count": null,
   "metadata": {},
   "outputs": [],
   "source": [
    "def ask_to_play(a):\n",
    "    grid = (' | | \\n-----\\n | | \\n-----\\n | | ')\n",
    "    grid2 = [ i for i in grid]\n",
    "    options = [i for i in range(len(grid)) if grid[i] == ' ']\n",
    "    options_new = options\n",
    "    user_play_game = input('Do you want to play Tic Tac Toe Y/N?  ')\n",
    "    if user_play_game == 'Y' or user_play_game == 'Yes' or user_play_game == 'y':\n",
    "        print('Great lets start!')\n",
    "        print(grid)\n",
    "        active_game(1)\n",
    "    elif user_play_game == 'N'or user_play_game == 'No' or user_play_game == 'n':\n",
    "        print('Ok, bye!')\n",
    "    elif user_play_game == 'test':\n",
    "        options_new = []\n",
    "        active_game(1)\n",
    "    else:\n",
    "        print('Sorry, please type Y or N')"
   ]
  },
  {
   "cell_type": "code",
   "execution_count": null,
   "metadata": {},
   "outputs": [],
   "source": [
    "#Two functions below allow the two players X and O to select a number from the list and return an error if the \n",
    "#number is not available\n",
    "def x_turn(b):\n",
    "    y = int(input(f'Player X pick a number from the list: {options_new} \\n'))\n",
    "    for i in options_new:\n",
    "        if y == i:\n",
    "            del options_new[options_new.index(y)]\n",
    "            grid2[y] = 'X'\n",
    "            print(''.join(grid2))\n",
    "            break\n",
    "        elif options_new.index(i) == (len(options_new) - 1):\n",
    "            print('Please Try again.The option selected is not avaliable.')\n",
    "            x_turn(1)\n",
    "        else:\n",
    "            continue\n",
    "            \n",
    "def y_turn(b):\n",
    "    y2 = int(input(f'Player O pick a number from the list: {options_new} \\n'))\n",
    "    for i in options_new:\n",
    "        if y2 == i:\n",
    "            del options_new[options_new.index(y2)]\n",
    "            grid2[y2] = 'O'\n",
    "            print(''.join(grid2))\n",
    "            break\n",
    "        elif options_new.index(i) == (len(options_new) - 1):\n",
    "            print('Please Try again.The option selected is not avaliable.')\n",
    "            y_turn(1)\n",
    "        else:\n",
    "            continue\n",
    "             "
   ]
  },
  {
   "cell_type": "code",
   "execution_count": null,
   "metadata": {},
   "outputs": [],
   "source": [
    "#the belows creates turns between the two players until there are no more grids or someone wins\n",
    "def active_game(a):\n",
    "    while len(options_new) > 0:\n",
    "        x_turn(1)\n",
    "        if len(options_new) == 0:\n",
    "            break\n",
    "        else:\n",
    "            y_turn(1)\n",
    "    print('Game Over\\n\\n')\n",
    "    ask_to_play(1)"
   ]
  },
  {
   "cell_type": "code",
   "execution_count": null,
   "metadata": {},
   "outputs": [],
   "source": []
  },
  {
   "cell_type": "code",
   "execution_count": null,
   "metadata": {},
   "outputs": [],
   "source": [
    "ask_to_play(1)"
   ]
  },
  {
   "cell_type": "code",
   "execution_count": null,
   "metadata": {},
   "outputs": [],
   "source": [
    "ask_to_play(0)"
   ]
  },
  {
   "cell_type": "code",
   "execution_count": null,
   "metadata": {},
   "outputs": [],
   "source": [
    "print(options)\n",
    "print(options_new)"
   ]
  },
  {
   "cell_type": "code",
   "execution_count": 12,
   "metadata": {},
   "outputs": [],
   "source": [
    "abc = 10\n",
    "xyz = 10"
   ]
  },
  {
   "cell_type": "code",
   "execution_count": null,
   "metadata": {},
   "outputs": [],
   "source": []
  },
  {
   "cell_type": "code",
   "execution_count": 34,
   "metadata": {},
   "outputs": [],
   "source": [
    "def add(x):\n",
    "    \n"
   ]
  },
  {
   "cell_type": "code",
   "execution_count": 43,
   "metadata": {},
   "outputs": [
    {
     "name": "stdout",
     "output_type": "stream",
     "text": [
      "12\n",
      "test\n"
     ]
    }
   ],
   "source": [
    "add(2)"
   ]
  },
  {
   "cell_type": "code",
   "execution_count": null,
   "metadata": {},
   "outputs": [],
   "source": []
  }
 ],
 "metadata": {
  "kernelspec": {
   "display_name": "Python 3",
   "language": "python",
   "name": "python3"
  },
  "language_info": {
   "codemirror_mode": {
    "name": "ipython",
    "version": 3
   },
   "file_extension": ".py",
   "mimetype": "text/x-python",
   "name": "python",
   "nbconvert_exporter": "python",
   "pygments_lexer": "ipython3",
   "version": "3.8.5"
  }
 },
 "nbformat": 4,
 "nbformat_minor": 4
}
